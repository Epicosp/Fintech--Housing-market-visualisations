{
 "cells": [
  {
   "cell_type": "markdown",
   "metadata": {},
   "source": [
    "# Toronto Dwellings Analysis Dashboard\n",
    "\n",
    "In this notebook, you will compile the visualizations from the previous analysis into functions to create a Panel dashboard."
   ]
  },
  {
   "cell_type": "code",
   "execution_count": 3,
   "metadata": {},
   "outputs": [],
   "source": [
    "# imports\n",
    "import panel as pn\n",
    "pn.extension('plotly')\n",
    "import plotly.express as px\n",
    "import pandas as pd\n",
    "import hvplot.pandas\n",
    "import matplotlib.pyplot as plt\n",
    "import os\n",
    "from pathlib import Path\n",
    "from dotenv import load_dotenv"
   ]
  },
  {
   "cell_type": "code",
   "execution_count": 4,
   "metadata": {},
   "outputs": [],
   "source": [
    "# Initialize the Panel Extensions (for Plotly)\n",
    "import panel as pn\n",
    "pn.extension(\"plotly\")"
   ]
  },
  {
   "cell_type": "code",
   "execution_count": 5,
   "metadata": {},
   "outputs": [
    {
     "data": {
      "text/plain": [
       "str"
      ]
     },
     "execution_count": 5,
     "metadata": {},
     "output_type": "execute_result"
    }
   ],
   "source": [
    "# Read the Mapbox API key\n",
    "path = Path('/Users/stuartperry/Env_files/API_keys/mapbox.env')\n",
    "load_dotenv(path)\n",
    "map_box_api = os.getenv('DEFAULT_PUBLIC_TOKEN')\n",
    "px.set_mapbox_access_token(map_box_api)\n",
    "type(map_box_api)"
   ]
  },
  {
   "cell_type": "markdown",
   "metadata": {},
   "source": [
    "# Import Data"
   ]
  },
  {
   "cell_type": "code",
   "execution_count": 6,
   "metadata": {},
   "outputs": [],
   "source": [
    "# Import the CSVs to Pandas DataFrames\n",
    "file_path = Path(\"Data/toronto_neighbourhoods_census_data.csv\")\n",
    "to_data = pd.read_csv(file_path, index_col=\"year\")\n",
    "\n",
    "file_path = Path(\"Data/toronto_neighbourhoods_coordinates.csv\")\n",
    "df_neighbourhood_locations = pd.read_csv(file_path)"
   ]
  },
  {
   "cell_type": "markdown",
   "metadata": {},
   "source": [
    "- - -"
   ]
  },
  {
   "cell_type": "markdown",
   "metadata": {},
   "source": [
    "## Panel Visualizations\n",
    "\n",
    "In this section, you will copy the code for each plot type from your analysis notebook and place it into separate functions that Panel can use to create panes for the dashboard. \n",
    "\n",
    "These functions will convert the plot object to a Panel pane.\n",
    "\n",
    "Be sure to include any DataFrame transformation/manipulation code required along with the plotting code.\n",
    "\n",
    "Return a Panel pane object from each function that can be used to build the dashboard.\n",
    "\n",
    "Note: Remove any `.show()` lines from the code. We want to return the plots instead of showing them. The Panel dashboard will then display the plots."
   ]
  },
  {
   "cell_type": "markdown",
   "metadata": {},
   "source": [
    "### Global available data"
   ]
  },
  {
   "cell_type": "code",
   "execution_count": null,
   "metadata": {},
   "outputs": [],
   "source": [
    "# Getting the data from the top 10 expensive neighbourhoods\n",
    "all_dwelling_data = data[['single_detached_house',\n",
    "    'apartment_five_storeys_plus',\n",
    "    'movable_dwelling',\n",
    "    'semi_detached_house',\n",
    "    'row_house',\n",
    "    'duplex',\n",
    "    'apartment_five_storeys_less',\n",
    "    'other_house']]\n",
    "yearly_dwelling_data = all_dwelling_data.groupby('year').sum()\n",
    "yearly_dwelling_data\n",
    "\n",
    "monthly_shelter_costs = (data[['shelter_costs_owned', 'shelter_costs_rented']]).groupby('year').mean().round(decimals=2)\n",
    "monthly_shelter_costs\n",
    "\n",
    "\n",
    "# Calculate the mean number of dwelling types units per year\n",
    "# YOUR CODE HERE!\n",
    "\n",
    "# Calculate the average monthly shelter costs for owned and rented dwellings\n",
    "# YOUR CODE HERE!"
   ]
  },
  {
   "cell_type": "markdown",
   "metadata": {},
   "source": [
    "### Panel Visualization Functions"
   ]
  },
  {
   "cell_type": "code",
   "execution_count": 7,
   "metadata": {},
   "outputs": [],
   "source": [
    "# Define Panel visualization functions\n",
    "def neighbourhood_map(data):\n",
    "    \"\"\"Neighbourhood Map\"\"\"\n",
    "    map_plot = px.scatter_mapbox(\n",
    "        data,\n",
    "        lat='lat',\n",
    "        lon='lon',\n",
    "        size='average_house_value',\n",
    "        color = 'average_house_value'\n",
    "    )\n",
    "\n",
    "def create_bar_chart(data, title, xlabel, ylabel, subplot_axis=False):\n",
    "    \"\"\"Create a barplot based in the data argument, applies axis to subplots if included\"\"\"\n",
    "    if subplot_axis:\n",
    "        chart = data.plot(kind='bar', xlabel=xlabel, ylabel=ylabel, title=title, ax=subplot_axis)\n",
    "    else:\n",
    "        chart = data.plot(kind='bar', xlabel=xlabel, ylabel=ylabel, title=title)\n",
    "\n",
    "def create_line_chart(data, xlabel, ylabel, title, subplot_axis=False):\n",
    "    \"\"\"Create a line chart based in the data argument.\"\"\"\n",
    "    if subplot_axis:\n",
    "        chart = data.plot(kind='line', xlabel=xlabel, ylabel=ylabel, title=title, ax=subplot_axis)\n",
    "    else:\n",
    "        chart = data.plot(kind ='line', xlabel=xlabel, ylabel=ylabel, title=title)\n",
    "\n",
    "def average_house_value():\n",
    "    \"\"\"Average house values per year.\"\"\"\n",
    "    \n",
    "    # YOUR CODE HERE!\n",
    "\n",
    "def average_value_by_neighbourhood():\n",
    "    \"\"\"Average house values by neighbourhood.\"\"\"\n",
    "    \n",
    "    # YOUR CODE HERE!\n",
    "\n",
    "def number_dwelling_types():\n",
    "    \"\"\"Number of dwelling types per year\"\"\"\n",
    "    \n",
    "    # YOUR CODE HERE!\n",
    "\n",
    "def average_house_value_snapshot():\n",
    "    \"\"\"Average house value for all Toronto's neighbourhoods per year.\"\"\"\n",
    "\n",
    "    # YOUR CODE HERE!\n",
    "\n",
    "def top_most_expensive_neighbourhoods():\n",
    "    \"\"\"Top 10 most expensive neighbourhoods.\"\"\"\n",
    "    \n",
    "    # YOUR CODE HERE!\n",
    "\n",
    "def sunburst_cost_analysis():\n",
    "    \"\"\"Sunburst chart to conduct a costs analysis of most expensive neighbourhoods in Toronto per year.\"\"\"\n",
    "    \n",
    "    # YOUR CODE HERE!"
   ]
  },
  {
   "cell_type": "markdown",
   "metadata": {},
   "source": [
    "## Panel Dashboard\n",
    "\n",
    "In this section, you will combine all of the plots into a single dashboard view using Panel. Be creative with your dashboard design!"
   ]
  },
  {
   "cell_type": "code",
   "execution_count": 17,
   "metadata": {},
   "outputs": [],
   "source": [
    "# Create a Title for the Dashboard\n",
    "# YOUR CODE HERE!\n",
    "\n",
    "# Define a welcome text\n",
    "# YOUR CODE HERE!\n",
    "\n",
    "# Create a tab layout for the dashboard\n",
    "dashboard = pn.Tabs(('Interactive', sunburst_cost_analysis()), ('Plots', average_house_value()))\n",
    "\n",
    "# Create the main dashboard\n"
   ]
  },
  {
   "cell_type": "markdown",
   "metadata": {},
   "source": [
    "## Serve the Panel Dashboard"
   ]
  },
  {
   "cell_type": "code",
   "execution_count": 18,
   "metadata": {},
   "outputs": [
    {
     "data": {},
     "metadata": {},
     "output_type": "display_data"
    },
    {
     "data": {
      "application/vnd.holoviews_exec.v0+json": "",
      "text/html": [
       "<div id='1007'>\n",
       "\n",
       "\n",
       "\n",
       "\n",
       "\n",
       "  <div class=\"bk-root\" id=\"a38b1c20-7ad9-4938-8f4a-47c440725a65\" data-root-id=\"1007\"></div>\n",
       "</div>\n",
       "<script type=\"application/javascript\">(function(root) {\n",
       "  function embed_document(root) {\n",
       "    var docs_json = {\"82fba514-e7a7-4876-86d5-da94998ff70a\":{\"defs\":[{\"extends\":null,\"module\":null,\"name\":\"ReactiveHTML1\",\"overrides\":[],\"properties\":[]},{\"extends\":null,\"module\":null,\"name\":\"FlexBox1\",\"overrides\":[],\"properties\":[{\"default\":\"flex-start\",\"kind\":null,\"name\":\"align_content\"},{\"default\":\"flex-start\",\"kind\":null,\"name\":\"align_items\"},{\"default\":\"row\",\"kind\":null,\"name\":\"flex_direction\"},{\"default\":\"wrap\",\"kind\":null,\"name\":\"flex_wrap\"},{\"default\":\"flex-start\",\"kind\":null,\"name\":\"justify_content\"}]},{\"extends\":null,\"module\":null,\"name\":\"TemplateActions1\",\"overrides\":[],\"properties\":[{\"default\":0,\"kind\":null,\"name\":\"open_modal\"},{\"default\":0,\"kind\":null,\"name\":\"close_modal\"}]},{\"extends\":null,\"module\":null,\"name\":\"MaterialTemplateActions1\",\"overrides\":[],\"properties\":[{\"default\":0,\"kind\":null,\"name\":\"open_modal\"},{\"default\":0,\"kind\":null,\"name\":\"close_modal\"}]}],\"roots\":{\"references\":[{\"attributes\":{\"client_comm_id\":\"f9e26419a8e643f1b56daa6ac7d9463d\",\"comm_id\":\"57935acceca4485c81ee3fe756b96460\",\"plot_id\":\"1007\"},\"id\":\"1012\",\"type\":\"panel.models.comm_manager.CommManager\"},{\"attributes\":{\"child\":{\"id\":\"1010\"},\"name\":\"Plots\",\"title\":\"Plots\"},\"id\":\"1011\",\"type\":\"Panel\"},{\"attributes\":{\"margin\":[5,5,5,5],\"name\":\"Interactive\",\"text\":\"&lt;pre&gt; &lt;/pre&gt;\"},\"id\":\"1008\",\"type\":\"panel.models.markup.HTML\"},{\"attributes\":{\"margin\":[0,0,0,0],\"tabs\":[{\"id\":\"1009\"},{\"id\":\"1011\"}]},\"id\":\"1007\",\"type\":\"Tabs\"},{\"attributes\":{\"reload\":false},\"id\":\"1013\",\"type\":\"panel.models.location.Location\"},{\"attributes\":{\"margin\":[5,5,5,5],\"name\":\"Plots\",\"text\":\"&lt;pre&gt; &lt;/pre&gt;\"},\"id\":\"1010\",\"type\":\"panel.models.markup.HTML\"},{\"attributes\":{\"child\":{\"id\":\"1008\"},\"name\":\"Interactive\",\"title\":\"Interactive\"},\"id\":\"1009\",\"type\":\"Panel\"}],\"root_ids\":[\"1007\",\"1012\",\"1013\"]},\"title\":\"Bokeh Application\",\"version\":\"2.4.1\"}};\n",
       "    var render_items = [{\"docid\":\"82fba514-e7a7-4876-86d5-da94998ff70a\",\"root_ids\":[\"1007\"],\"roots\":{\"1007\":\"a38b1c20-7ad9-4938-8f4a-47c440725a65\"}}];\n",
       "    root.Bokeh.embed.embed_items_notebook(docs_json, render_items);\n",
       "  }\n",
       "  if (root.Bokeh !== undefined && root.Bokeh.Panel !== undefined && ( root['Plotly'] !== undefined)) {\n",
       "    embed_document(root);\n",
       "  } else {\n",
       "    var attempts = 0;\n",
       "    var timer = setInterval(function(root) {\n",
       "      if (root.Bokeh !== undefined && root.Bokeh.Panel !== undefined && (root['Plotly'] !== undefined)) {\n",
       "        clearInterval(timer);\n",
       "        embed_document(root);\n",
       "      } else if (document.readyState == \"complete\") {\n",
       "        attempts++;\n",
       "        if (attempts > 200) {\n",
       "          clearInterval(timer);\n",
       "          console.log(\"Bokeh: ERROR: Unable to run BokehJS code because BokehJS library is missing\");\n",
       "        }\n",
       "      }\n",
       "    }, 25, root)\n",
       "  }\n",
       "})(window);</script>"
      ],
      "text/plain": [
       "Tabs\n",
       "    [0] Str(None, name='Interactive')\n",
       "    [1] Str(None, name='Plots')"
      ]
     },
     "execution_count": 18,
     "metadata": {
      "application/vnd.holoviews_exec.v0+json": {
       "id": "1007"
      }
     },
     "output_type": "execute_result"
    }
   ],
   "source": [
    "dashboard.servable()"
   ]
  },
  {
   "cell_type": "markdown",
   "metadata": {},
   "source": [
    "# Debugging\n",
    "\n",
    "Note: Some of the Plotly express plots may not render in the notebook through the panel functions.\n",
    "\n",
    "However, you can test each plot by uncommenting the following code"
   ]
  },
  {
   "cell_type": "code",
   "execution_count": null,
   "metadata": {},
   "outputs": [],
   "source": [
    "# neighbourhood_map().show()"
   ]
  },
  {
   "cell_type": "code",
   "execution_count": null,
   "metadata": {},
   "outputs": [],
   "source": [
    "# create_bar_chart(data, title, xlabel, ylabel, color)\n",
    "\n",
    "# # Bar chart for 2001\n",
    "# create_bar_chart(df_dwelling_units.loc[2001], \"Dwelling Types in Toronto in 2001\", \"2001\", \"Dwelling Type Units\", \"red\")\n",
    "\n",
    "# # Bar chart for 2006\n",
    "# create_bar_chart(df_dwelling_units.loc[2006], \"Dwelling Types in Toronto in 2006\", \"2006\", \"Dwelling Type Units\", \"blue\")\n",
    "\n",
    "# # Bar chart for 2011\n",
    "# create_bar_chart(df_dwelling_units.loc[2011], \"Dwelling Types in Toronto in 2011\", \"2011\", \"Dwelling Type Units\", \"orange\")\n",
    "\n",
    "# # Bar chart for 2016\n",
    "# create_bar_chart(df_dwelling_units.loc[2016], \"Dwelling Types in Toronto in 2016\", \"2016\", \"Dwelling Type Units\", \"magenta\")"
   ]
  },
  {
   "cell_type": "code",
   "execution_count": null,
   "metadata": {},
   "outputs": [],
   "source": [
    "# create_line_chart(data, title, xlabel, ylabel, color)\n",
    "\n",
    "# # Line chart for owned dwellings\n",
    "# create_line_chart(df_avg_costs[\"shelter_costs_owned\"], \"Average Monthly Shelter Cost for Owned Dwellings in Toronto\", \"Year\", \"Avg Monthly Shelter Costs\", \"blue\")\n",
    "\n",
    "# # Line chart for rented dwellings\n",
    "# create_line_chart(df_avg_costs[\"shelter_costs_rented\"], \"Average Monthly Shelter Cost for Rented Dwellings in Toronto\", \"Year\", \"Avg Monthly Shelter Costs\", \"orange\")"
   ]
  },
  {
   "cell_type": "code",
   "execution_count": null,
   "metadata": {},
   "outputs": [],
   "source": [
    "# average_house_value()"
   ]
  },
  {
   "cell_type": "code",
   "execution_count": null,
   "metadata": {},
   "outputs": [],
   "source": [
    "# average_value_by_neighbourhood()"
   ]
  },
  {
   "cell_type": "code",
   "execution_count": null,
   "metadata": {},
   "outputs": [],
   "source": [
    "# number_dwelling_types()"
   ]
  },
  {
   "cell_type": "code",
   "execution_count": null,
   "metadata": {},
   "outputs": [],
   "source": [
    "# average_house_value_snapshot()"
   ]
  },
  {
   "cell_type": "code",
   "execution_count": null,
   "metadata": {},
   "outputs": [],
   "source": [
    "# top_most_expensive_neighbourhoods()"
   ]
  },
  {
   "cell_type": "code",
   "execution_count": null,
   "metadata": {},
   "outputs": [],
   "source": [
    "# sunburts_cost_analysis()"
   ]
  }
 ],
 "metadata": {
  "file_extension": ".py",
  "kernelspec": {
   "display_name": "Python [conda env:pyvizenv] *",
   "language": "python",
   "name": "conda-env-pyvizenv-py"
  },
  "language_info": {
   "codemirror_mode": {
    "name": "ipython",
    "version": 3
   },
   "file_extension": ".py",
   "mimetype": "text/x-python",
   "name": "python",
   "nbconvert_exporter": "python",
   "pygments_lexer": "ipython3",
   "version": "3.7.11"
  },
  "mimetype": "text/x-python",
  "name": "python",
  "npconvert_exporter": "python",
  "pygments_lexer": "ipython3",
  "version": 3
 },
 "nbformat": 4,
 "nbformat_minor": 4
}
